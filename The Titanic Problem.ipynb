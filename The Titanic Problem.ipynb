{
 "cells": [
  {
   "cell_type": "code",
   "execution_count": 134,
   "metadata": {},
   "outputs": [],
   "source": [
    "import numpy as np\n",
    "import pandas as pd\n",
    "from sklearn.preprocessing import LabelEncoder\n",
    "from sklearn.linear_model import LogisticRegression\n",
    "from sklearn.ensemble import RandomForestClassifier\n",
    "from sklearn.svm import LinearSVC\n",
    "from sklearn.utils import shuffle"
   ]
  },
  {
   "cell_type": "code",
   "execution_count": 135,
   "metadata": {},
   "outputs": [],
   "source": [
    "train_set = pd.read_csv('C:/Users/omarBassuni/Titanic Problems/train.csv')\n",
    "test_set = pd.read_csv('C:/Users/omarBassuni/Titanic Problems/test.csv')\n",
    "\n",
    "train_set = shuffle(train_set, random_state=0)\n",
    "train_set['Embarked'].head()\n",
    "def prepare_data(input_set):\n",
    "    input_set['Sex'] = input_set['Sex'].map({'male':1, 'female': 0})\n",
    "    input_set['Embarked'] = input_set['Embarked'].map({'S':0, 'C': 1, 'Q':2})\n",
    "    input_set['Sex'].head()\n",
    "    txt_to_category(input_set)\n",
    "    normalization(input_set)\n",
    "    \n",
    "def txt_to_category(input_set):\n",
    "    encoder = LabelEncoder()\n",
    "    input_set.drop(['Name', 'Ticket', 'Cabin'], axis = 1, inplace = True)\n",
    "    input_set['Age'].fillna(input_set['Age'].mean(), inplace = True)\n",
    "    input_set['Fare'].fillna(input_set['Fare'].mean(), inplace = True)\n",
    "    input_set['Embarked'].fillna(-1, inplace = True)\n",
    "    input_set['Age'] = input_set['Age'].astype(int)\n",
    "    input_set['Fare'] = input_set['Fare'].round(3)\n",
    "    \n",
    "def normalization(input_set):\n",
    "    input_set['Fare']=(input_set['Fare']-input_set['Fare'].mean())/input_set['Fare'].std()\n",
    "\n",
    "prepare_data(train_set)\n",
    "prepare_data(test_set)"
   ]
  },
  {
   "cell_type": "code",
   "execution_count": 136,
   "metadata": {},
   "outputs": [],
   "source": [
    "X, Y, _id = train_set.iloc[:,2:], train_set.iloc[:,1], train_set.iloc[:,0]\n",
    "X_valid= test_set.iloc[:,1:]\n",
    "#to check and return NaN values\n",
    "#     nan_rows =X_valid[X_valid.isnull().T.any().T]\n",
    "#     print(nan_rows)\n",
    "\n",
    "#to check the number of NaN values\n",
    "#     X_valid.isnull().sum().sum()"
   ]
  },
  {
   "cell_type": "code",
   "execution_count": 137,
   "metadata": {},
   "outputs": [
    {
     "name": "stdout",
     "output_type": "stream",
     "text": [
      "LogisticRegression Training Score:  0.8024691358024691\n"
     ]
    }
   ],
   "source": [
    "from warnings import simplefilter\n",
    "simplefilter(action='ignore', category=FutureWarning)\n",
    "lr = LogisticRegression()\n",
    "lr.fit(X, Y)\n",
    "print('LogisticRegression Training Score: ', lr.score(X, Y))"
   ]
  },
  {
   "cell_type": "code",
   "execution_count": 138,
   "metadata": {},
   "outputs": [],
   "source": [
    "predictions = lr.predict(X_valid)"
   ]
  },
  {
   "cell_type": "code",
   "execution_count": 139,
   "metadata": {},
   "outputs": [],
   "source": [
    "submit_this = pd.DataFrame({'PassengerId': test_set['PassengerId'],\n",
    "                          'Survived': predictions})\n",
    "submit_this.to_csv('titanic.csv', index = False)"
   ]
  },
  {
   "cell_type": "code",
   "execution_count": null,
   "metadata": {},
   "outputs": [],
   "source": []
  }
 ],
 "metadata": {
  "kernelspec": {
   "display_name": "Python 3",
   "language": "python",
   "name": "python3"
  },
  "language_info": {
   "codemirror_mode": {
    "name": "ipython",
    "version": 3
   },
   "file_extension": ".py",
   "mimetype": "text/x-python",
   "name": "python",
   "nbconvert_exporter": "python",
   "pygments_lexer": "ipython3",
   "version": "3.6.8"
  }
 },
 "nbformat": 4,
 "nbformat_minor": 2
}
